{
 "cells": [
  {
   "cell_type": "code",
   "execution_count": null,
   "metadata": {},
   "outputs": [],
   "source": []
  },
  {
   "cell_type": "markdown",
   "metadata": {},
   "source": [
    "# assignment 1\n"
   ]
  },
  {
   "cell_type": "code",
   "execution_count": 1,
   "metadata": {},
   "outputs": [],
   "source": [
    "data = []\n"
   ]
  },
  {
   "cell_type": "code",
   "execution_count": 2,
   "metadata": {},
   "outputs": [
    {
     "name": "stdout",
     "output_type": "stream",
     "text": [
      "how many values you want to get:3\n",
      "enter you name:\"hamza ali\"\n",
      "enter your age:25\n",
      "enter your work:\"A.I\"\n",
      "enter your skills:[\"python\",\"tensorflow\"]\n",
      "enter your dagrees:{\"title\",\"BS\"}\n",
      "enter your salary:259999\n",
      "0\n",
      "******************************\n",
      "enter you name:\"farooq aziz\"\n",
      "enter your age:27\n",
      "enter your work:\"cloud native\"\n",
      "enter your skills:[\"ubunto\",\"docker\"]\n",
      "enter your dagrees:{\"title\":\"MS\"}\n",
      "enter your salary:200000\n",
      "1\n",
      "******************************\n",
      "enter you name:\"abu bakr\"\n",
      "enter your age:30\n",
      "enter your work:\"blockchain\"\n",
      "enter your skills:[\"python\",\"cryptogrraphy\"]\n",
      "enter your dagrees:{\"title\":\"BS\"}\n",
      "enter your salary:300000\n",
      "2\n",
      "******************************\n"
     ]
    }
   ],
   "source": [
    "x = int(input(\"how many values you want to get:\"))\n",
    "\n",
    "for i in range(x):\n",
    "    name=input(\"enter you name:\")\n",
    "    age=input(\"enter your age:\")\n",
    "    work=input(\"enter your work:\")\n",
    "    skills=input(\"enter your skills:\")\n",
    "    degree=input(\"enter your dagrees:\")\n",
    "    salary=input(\"enter your salary:\")\n",
    "    data.append([name,age,work,skills,degree,salary])\n",
    "    print(i)\n",
    "    \n",
    "    print(\"*\"*30)"
   ]
  },
  {
   "cell_type": "code",
   "execution_count": 3,
   "metadata": {},
   "outputs": [
    {
     "name": "stdout",
     "output_type": "stream",
     "text": [
      "[['\"hamza ali\"', '25', '\"A.I\"', '[\"python\",\"tensorflow\"]', '{\"title\",\"BS\"}', '259999'], ['\"farooq aziz\"', '27', '\"cloud native\"', '[\"ubunto\",\"docker\"]', '{\"title\":\"MS\"}', '200000'], ['\"abu bakr\"', '30', '\"blockchain\"', '[\"python\",\"cryptogrraphy\"]', '{\"title\":\"BS\"}', '300000']]\n"
     ]
    }
   ],
   "source": [
    "print(data)"
   ]
  },
  {
   "cell_type": "markdown",
   "metadata": {},
   "source": [
    "# assignment 2\n"
   ]
  },
  {
   "cell_type": "code",
   "execution_count": null,
   "metadata": {},
   "outputs": [],
   "source": [
    "for i in range(1,11):\n",
    "    table_value=input(\"enter your value:\")\n",
    "    print(f\"{table_value}*{i}={i*table_value}\")\n"
   ]
  },
  {
   "cell_type": "code",
   "execution_count": null,
   "metadata": {},
   "outputs": [],
   "source": [
    "for i in range(1,11):\n",
    "    table_value=input(\"enter your value:\")\n",
    "    print(f\"{table_value}*{i}={i*table_value}\")"
   ]
  },
  {
   "cell_type": "code",
   "execution_count": null,
   "metadata": {},
   "outputs": [],
   "source": [
    "for i in range(1,11):\n",
    "    table_value=input(\"enter your value:\")\n",
    "    print(f\"{table_value}*{i}={i*table_value}\")"
   ]
  },
  {
   "cell_type": "code",
   "execution_count": 9,
   "metadata": {},
   "outputs": [
    {
     "name": "stdout",
     "output_type": "stream",
     "text": [
      "enter your value:5\n",
      "5 * 1=5\n",
      "5 * 2=10\n",
      "5 * 3=15\n",
      "5 * 4=20\n",
      "5 * 5=25\n",
      "5 * 6=30\n",
      "5 * 7=35\n",
      "5 * 8=40\n",
      "5 * 9=45\n",
      "5 * 10=50\n"
     ]
    }
   ],
   "source": [
    "table_value=int(input(\"enter your value:\"))\n",
    "\n",
    "for i in range(1,11):\n",
    "    print(f\"{table_value} * {i}={i * table_value}\")"
   ]
  },
  {
   "cell_type": "code",
   "execution_count": 13,
   "metadata": {},
   "outputs": [
    {
     "name": "stdout",
     "output_type": "stream",
     "text": [
      "enter the starting value:5\n",
      "enter the last value:10\n",
      "\n",
      "\n",
      "5 x 1 =5\t6 x 1 =6\t7 x 1 =7\t8 x 1 =8\t9 x 1 =9\t10 x 1 =10\t\n",
      "\n",
      "5 x 2 =10\t6 x 2 =12\t7 x 2 =14\t8 x 2 =16\t9 x 2 =18\t10 x 2 =20\t\n",
      "\n",
      "5 x 3 =15\t6 x 3 =18\t7 x 3 =21\t8 x 3 =24\t9 x 3 =27\t10 x 3 =30\t\n",
      "\n",
      "5 x 4 =20\t6 x 4 =24\t7 x 4 =28\t8 x 4 =32\t9 x 4 =36\t10 x 4 =40\t\n",
      "\n",
      "5 x 5 =25\t6 x 5 =30\t7 x 5 =35\t8 x 5 =40\t9 x 5 =45\t10 x 5 =50\t\n",
      "\n",
      "5 x 6 =30\t6 x 6 =36\t7 x 6 =42\t8 x 6 =48\t9 x 6 =54\t10 x 6 =60\t\n",
      "\n",
      "5 x 7 =35\t6 x 7 =42\t7 x 7 =49\t8 x 7 =56\t9 x 7 =63\t10 x 7 =70\t\n",
      "\n",
      "5 x 8 =40\t6 x 8 =48\t7 x 8 =56\t8 x 8 =64\t9 x 8 =72\t10 x 8 =80\t\n",
      "\n",
      "5 x 9 =45\t6 x 9 =54\t7 x 9 =63\t8 x 9 =72\t9 x 9 =81\t10 x 9 =90\t\n",
      "\n",
      "5 x 10 =50\t6 x 10 =60\t7 x 10 =70\t8 x 10 =80\t9 x 10 =90\t10 x 10 =100\t\n",
      "\n"
     ]
    }
   ],
   "source": [
    "first_table = int(input(\"enter the starting value:\"))\n",
    "last_table =  int(input(\"enter the last value:\"))\n",
    "print(\"\\n\")\n",
    "for j in range(1,11):\n",
    "    for i in range(first_table,last_table+1):\n",
    "        print(\"{} x {} ={}\".format(i,j,i*j), end=\"\\t\")\n",
    "    print(\"\\n\")"
   ]
  },
  {
   "cell_type": "code",
   "execution_count": 36,
   "metadata": {},
   "outputs": [
    {
     "name": "stdout",
     "output_type": "stream",
     "text": [
      "enter the starting value:5\n",
      "enter the last value:10\n",
      "\t\n",
      "1 x 5 =5\n",
      "2 x 5 =10\n",
      "3 x 5 =15\n",
      "4 x 5 =20\n",
      "5 x 5 =25\n",
      "6 x 5 =30\n",
      "7 x 5 =35\n",
      "8 x 5 =40\n",
      "9 x 5 =45\n",
      "10 x 5 =50\n",
      "\t\n",
      "1 x 6 =6\n",
      "2 x 6 =12\n",
      "3 x 6 =18\n",
      "4 x 6 =24\n",
      "5 x 6 =30\n",
      "6 x 6 =36\n",
      "7 x 6 =42\n",
      "8 x 6 =48\n",
      "9 x 6 =54\n",
      "10 x 6 =60\n",
      "\t\n",
      "1 x 7 =7\n",
      "2 x 7 =14\n",
      "3 x 7 =21\n",
      "4 x 7 =28\n",
      "5 x 7 =35\n",
      "6 x 7 =42\n",
      "7 x 7 =49\n",
      "8 x 7 =56\n",
      "9 x 7 =63\n",
      "10 x 7 =70\n",
      "\t\n",
      "1 x 8 =8\n",
      "2 x 8 =16\n",
      "3 x 8 =24\n",
      "4 x 8 =32\n",
      "5 x 8 =40\n",
      "6 x 8 =48\n",
      "7 x 8 =56\n",
      "8 x 8 =64\n",
      "9 x 8 =72\n",
      "10 x 8 =80\n",
      "\t\n",
      "1 x 9 =9\n",
      "2 x 9 =18\n",
      "3 x 9 =27\n",
      "4 x 9 =36\n",
      "5 x 9 =45\n",
      "6 x 9 =54\n",
      "7 x 9 =63\n",
      "8 x 9 =72\n",
      "9 x 9 =81\n",
      "10 x 9 =90\n",
      "\t\n",
      "1 x 10 =10\n",
      "2 x 10 =20\n",
      "3 x 10 =30\n",
      "4 x 10 =40\n",
      "5 x 10 =50\n",
      "6 x 10 =60\n",
      "7 x 10 =70\n",
      "8 x 10 =80\n",
      "9 x 10 =90\n",
      "10 x 10 =100\n",
      "\t\n"
     ]
    }
   ],
   "source": [
    "first_table = int(input(\"enter the starting value:\"))\n",
    "last_table =  int(input(\"enter the last value:\"))\n",
    "print(\"\\t\")\n",
    "\n",
    "for j in range(first_table,last_table+1):\n",
    "    for i in range(1,11):\n",
    "        print(\"{} x {} ={}\".format(i,j,i*j))\n",
    "    print(\"\\t\")\n",
    "    "
   ]
  },
  {
   "cell_type": "code",
   "execution_count": null,
   "metadata": {},
   "outputs": [],
   "source": []
  }
 ],
 "metadata": {
  "kernelspec": {
   "display_name": "Python 3",
   "language": "python",
   "name": "python3"
  },
  "language_info": {
   "codemirror_mode": {
    "name": "ipython",
    "version": 3
   },
   "file_extension": ".py",
   "mimetype": "text/x-python",
   "name": "python",
   "nbconvert_exporter": "python",
   "pygments_lexer": "ipython3",
   "version": "3.7.4"
  }
 },
 "nbformat": 4,
 "nbformat_minor": 2
}
